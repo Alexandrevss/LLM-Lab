{
  "nbformat": 4,
  "nbformat_minor": 0,
  "metadata": {
    "colab": {
      "provenance": [],
      "authorship_tag": "ABX9TyNDPNb8KNSh7yXNvCWd+kP6",
      "include_colab_link": true
    },
    "kernelspec": {
      "name": "python3",
      "display_name": "Python 3"
    },
    "language_info": {
      "name": "python"
    }
  },
  "cells": [
    {
      "cell_type": "markdown",
      "metadata": {
        "id": "view-in-github",
        "colab_type": "text"
      },
      "source": [
        "<a href=\"https://colab.research.google.com/github/Alexandrevss/LLM-Lab/blob/main/Chat.ipynb\" target=\"_parent\"><img src=\"https://colab.research.google.com/assets/colab-badge.svg\" alt=\"Open In Colab\"/></a>"
      ]
    },
    {
      "cell_type": "code",
      "source": [
        "!pip install -U -q google-generativeai"
      ],
      "metadata": {
        "colab": {
          "base_uri": "https://localhost:8080/"
        },
        "id": "rIRath-BRyWH",
        "outputId": "207cea30-e55e-4336-a03b-fdad688c709d"
      },
      "execution_count": 2,
      "outputs": [
        {
          "output_type": "stream",
          "name": "stdout",
          "text": [
            "\u001b[?25l     \u001b[90m━━━━━━━━━━━━━━━━━━━━━━━━━━━━━━━━━━━━━━━━\u001b[0m \u001b[32m0.0/150.7 kB\u001b[0m \u001b[31m?\u001b[0m eta \u001b[36m-:--:--\u001b[0m\r\u001b[2K     \u001b[91m━━━━━━━━━━━━━━━━━━━━━━━━━━━━━━━━━━━━━━\u001b[0m\u001b[90m╺\u001b[0m\u001b[90m━\u001b[0m \u001b[32m143.4/150.7 kB\u001b[0m \u001b[31m4.5 MB/s\u001b[0m eta \u001b[36m0:00:01\u001b[0m\r\u001b[2K     \u001b[90m━━━━━━━━━━━━━━━━━━━━━━━━━━━━━━━━━━━━━━━━\u001b[0m \u001b[32m150.7/150.7 kB\u001b[0m \u001b[31m3.4 MB/s\u001b[0m eta \u001b[36m0:00:00\u001b[0m\n",
            "\u001b[?25h\u001b[?25l     \u001b[90m━━━━━━━━━━━━━━━━━━━━━━━━━━━━━━━━━━━━━━━━\u001b[0m \u001b[32m0.0/677.8 kB\u001b[0m \u001b[31m?\u001b[0m eta \u001b[36m-:--:--\u001b[0m\r\u001b[2K     \u001b[91m━━━━━━━━━━━━━━━━━━━━━━━━\u001b[0m\u001b[91m╸\u001b[0m\u001b[90m━━━━━━━━━━━━━━━\u001b[0m \u001b[32m419.8/677.8 kB\u001b[0m \u001b[31m12.4 MB/s\u001b[0m eta \u001b[36m0:00:01\u001b[0m\r\u001b[2K     \u001b[90m━━━━━━━━━━━━━━━━━━━━━━━━━━━━━━━━━━━━━━━━\u001b[0m \u001b[32m677.8/677.8 kB\u001b[0m \u001b[31m10.3 MB/s\u001b[0m eta \u001b[36m0:00:00\u001b[0m\n",
            "\u001b[?25h"
          ]
        }
      ]
    },
    {
      "cell_type": "code",
      "source": [
        "import pandas as pd\n",
        "import numpy as np\n",
        "import google.generativeai as genai\n",
        "\n",
        "# Pega a chave do secrets no colab\n",
        "from google.colab import userdata\n",
        "GOOGLE_API_KEY = userdata.get('key_genai')\n",
        "#print(GOOGLE_API_KEY)\n",
        "\n",
        "genai.configure(api_key=GOOGLE_API_KEY)"
      ],
      "metadata": {
        "id": "hBiIrMC1R45A"
      },
      "execution_count": 3,
      "outputs": []
    },
    {
      "cell_type": "code",
      "execution_count": 4,
      "metadata": {
        "id": "Oooz6OC2K7Cb"
      },
      "outputs": [],
      "source": [
        "generation_config = {\n",
        "    \"candidate_count\":1,\n",
        "    \"temperature\":0.5,\n",
        "    }"
      ]
    },
    {
      "cell_type": "code",
      "source": [
        "safety_settings = {\n",
        "    \"HARASSMENT\":\"BLOCK_NONE\",\n",
        "    \"HATE\":\"BLOCK_NONE\",\n",
        "    \"SEXUAL\":\"BLOCK_NONE\",\n",
        "    \"DANGEROUS\":\"BLOCK_NONE\",\n",
        "    }"
      ],
      "metadata": {
        "id": "V0p1hSo_RRkp"
      },
      "execution_count": 5,
      "outputs": []
    },
    {
      "cell_type": "code",
      "source": [
        "model = genai.GenerativeModel(model_name=\"gemini-1.0-pro\",generation_config=generation_config,safety_settings = safety_settings)\n"
      ],
      "metadata": {
        "id": "VAGrUhLnRlyn"
      },
      "execution_count": 6,
      "outputs": []
    },
    {
      "cell_type": "code",
      "source": [
        "chat = model.start_chat(history=[])"
      ],
      "metadata": {
        "id": "As4hItphSqyx"
      },
      "execution_count": 7,
      "outputs": []
    },
    {
      "cell_type": "code",
      "source": [
        "prompt = input(\"Digite seu prompt:\")"
      ],
      "metadata": {
        "colab": {
          "base_uri": "https://localhost:8080/"
        },
        "id": "6YkQIbmkTDJA",
        "outputId": "f283d2c3-f4cb-4bb2-e4b5-a9fccdeeef6e"
      },
      "execution_count": 10,
      "outputs": [
        {
          "name": "stdout",
          "output_type": "stream",
          "text": [
            "Digite seu prompt:oi\n"
          ]
        }
      ]
    },
    {
      "cell_type": "code",
      "source": [
        "prompt = input(\"Digite seu prompt:\")\n",
        "while prompt != \"fim\":\n",
        "  response = chat.send_message(prompt)\n",
        "  print(\"Resposta:\", response.text, \"\\n\")\n",
        "  prompt = input(\"Digite seu prompt:\")"
      ],
      "metadata": {
        "id": "DQ8ufQGbTa1x"
      },
      "execution_count": null,
      "outputs": []
    },
    {
      "cell_type": "code",
      "source": [
        "print(chat.history)\n"
      ],
      "metadata": {
        "colab": {
          "base_uri": "https://localhost:8080/"
        },
        "id": "0S2dORN9Ugt2",
        "outputId": "cc3fa587-c714-4ce5-dae3-c27418ec9baa"
      },
      "execution_count": 14,
      "outputs": [
        {
          "output_type": "stream",
          "name": "stdout",
          "text": [
            "[parts {\n",
            "  text: \"bom dia\"\n",
            "}\n",
            "role: \"user\"\n",
            ", parts {\n",
            "  text: \"Bom dia para voc\\303\\252 tamb\\303\\251m! Que seu dia seja repleto de alegria e realiza\\303\\247\\303\\265es.\"\n",
            "}\n",
            "role: \"model\"\n",
            ", parts {\n",
            "  text: \"Muito obrigado! Voc\\303\\252 pode sugerir uma ideia para eu dormir melhor esta noite?\"\n",
            "}\n",
            "role: \"user\"\n",
            ", parts {\n",
            "  text: \"**Dicas para dormir melhor:**\\n\\n* **Estabele\\303\\247a um hor\\303\\241rio regular de sono:** V\\303\\241 para a cama e acorde aproximadamente na mesma hora todos os dias, mesmo nos fins de semana.\\n* **Crie um ambiente prop\\303\\255cio ao sono:** Certifique-se de que seu quarto esteja escuro, silencioso e fresco. Use cortinas blackout, um ventilador ou m\\303\\241quina de ru\\303\\255do branco para minimizar distra\\303\\247\\303\\265es.\\n* **Evite cafe\\303\\255na e \\303\\241lcool antes de dormir:** Essas subst\\303\\242ncias podem interferir no sono.\\n* **Fa\\303\\247a exerc\\303\\255cios regularmente:** A atividade f\\303\\255sica pode melhorar a qualidade do sono, mas evite se exercitar muito perto da hora de dormir.\\n* **Tome um banho quente antes de dormir:** Isso pode ajudar a relaxar seu corpo e mente.\\n* **Evite telas antes de dormir:** A luz azul emitida por dispositivos eletr\\303\\264nicos pode suprimir a produ\\303\\247\\303\\243o de melatonina, um horm\\303\\264nio que promove o sono.\\n* **Leia um livro ou ou\\303\\247a m\\303\\272sica relaxante:** Isso pode ajudar a acalmar sua mente e prepar\\303\\241-la para o sono.\\n* **Use t\\303\\251cnicas de relaxamento:** Pratique exerc\\303\\255cios de respira\\303\\247\\303\\243o profunda, medita\\303\\247\\303\\243o ou ioga para reduzir o estresse e promover o relaxamento.\\n* **Evite refei\\303\\247\\303\\265es pesadas antes de dormir:** Comer muito perto da hora de dormir pode causar desconforto e interromper o sono.\\n* **Consulte um m\\303\\251dico:** Se voc\\303\\252 tiver problemas cr\\303\\264nicos para dormir, consulte um m\\303\\251dico para descartar quaisquer problemas m\\303\\251dicos subjacentes.\"\n",
            "}\n",
            "role: \"model\"\n",
            "]\n"
          ]
        }
      ]
    },
    {
      "cell_type": "code",
      "source": [
        "import textwrap\n",
        "from IPython.display import display\n",
        "from IPython.display import Markdown\n",
        "\n",
        "def to_markdown(text):\n",
        "    text = text.replace('•', ' *')\n",
        "    return Markdown(textwrap.indent(text, '> ', predicate=lambda _: True))\n",
        "\n",
        "#Imprimindo o histórico\n",
        "for message in chat.history:\n",
        "    display(to_markdown(f'**{message.role}**: {message.parts[0].text}'))\n",
        "    print('------------------------------')"
      ],
      "metadata": {
        "colab": {
          "base_uri": "https://localhost:8080/",
          "height": 534
        },
        "id": "of_hFJf5YolR",
        "outputId": "3af93a6a-1ac4-4278-d038-e6c55e5d7fa3"
      },
      "execution_count": 21,
      "outputs": [
        {
          "output_type": "display_data",
          "data": {
            "text/plain": [
              "<IPython.core.display.Markdown object>"
            ],
            "text/markdown": "> **user**: bom dia"
          },
          "metadata": {}
        },
        {
          "output_type": "stream",
          "name": "stdout",
          "text": [
            "------------------------------\n"
          ]
        },
        {
          "output_type": "display_data",
          "data": {
            "text/plain": [
              "<IPython.core.display.Markdown object>"
            ],
            "text/markdown": "> **model**: Bom dia para você também! Que seu dia seja repleto de alegria e realizações."
          },
          "metadata": {}
        },
        {
          "output_type": "stream",
          "name": "stdout",
          "text": [
            "------------------------------\n"
          ]
        },
        {
          "output_type": "display_data",
          "data": {
            "text/plain": [
              "<IPython.core.display.Markdown object>"
            ],
            "text/markdown": "> **user**: Muito obrigado! Você pode sugerir uma ideia para eu dormir melhor esta noite?"
          },
          "metadata": {}
        },
        {
          "output_type": "stream",
          "name": "stdout",
          "text": [
            "------------------------------\n"
          ]
        },
        {
          "output_type": "display_data",
          "data": {
            "text/plain": [
              "<IPython.core.display.Markdown object>"
            ],
            "text/markdown": "> **model**: **Dicas para dormir melhor:**\n> \n> * **Estabeleça um horário regular de sono:** Vá para a cama e acorde aproximadamente na mesma hora todos os dias, mesmo nos fins de semana.\n> * **Crie um ambiente propício ao sono:** Certifique-se de que seu quarto esteja escuro, silencioso e fresco. Use cortinas blackout, um ventilador ou máquina de ruído branco para minimizar distrações.\n> * **Evite cafeína e álcool antes de dormir:** Essas substâncias podem interferir no sono.\n> * **Faça exercícios regularmente:** A atividade física pode melhorar a qualidade do sono, mas evite se exercitar muito perto da hora de dormir.\n> * **Tome um banho quente antes de dormir:** Isso pode ajudar a relaxar seu corpo e mente.\n> * **Evite telas antes de dormir:** A luz azul emitida por dispositivos eletrônicos pode suprimir a produção de melatonina, um hormônio que promove o sono.\n> * **Leia um livro ou ouça música relaxante:** Isso pode ajudar a acalmar sua mente e prepará-la para o sono.\n> * **Use técnicas de relaxamento:** Pratique exercícios de respiração profunda, meditação ou ioga para reduzir o estresse e promover o relaxamento.\n> * **Evite refeições pesadas antes de dormir:** Comer muito perto da hora de dormir pode causar desconforto e interromper o sono.\n> * **Consulte um médico:** Se você tiver problemas crônicos para dormir, consulte um médico para descartar quaisquer problemas médicos subjacentes."
          },
          "metadata": {}
        },
        {
          "output_type": "stream",
          "name": "stdout",
          "text": [
            "------------------------------\n"
          ]
        }
      ]
    }
  ]
}